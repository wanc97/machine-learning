{
 "cells": [
  {
   "cell_type": "markdown",
   "metadata": {},
   "source": [
    "## 全概率公式：\n",
    "### 一个事件的概率可以分为在一个划分下不同时间概率与该事件条件概率乘积的和。"
   ]
  },
  {
   "cell_type": "markdown",
   "metadata": {},
   "source": [
    "## 贝叶斯公式：\n",
    "### 角度一：条件概率+全概率公式\n",
    "### 角度二：用先验概率和具体时间表出后验概率"
   ]
  },
  {
   "cell_type": "markdown",
   "metadata": {},
   "source": [
    "## 朴素贝叶斯分类器：\n",
    "### 利用贝叶斯定理来实现分类任务，先验得知道各类（输出）的概率以及在各类下事件（输入）的概率，就可以得到在发生事件（输入）时，各类（输出）的概率。\n",
    "### 由于数据样本的数量与特征维度往往不匹配，无法有效得到各类下事件（输入）的概率，因此朴素贝叶斯对条件概率做了特征独立性假设。\n",
    "这意味着在分类确定的条件下，用于分类的特征是条件独立的。\n",
    "\n",
    "该假设使得朴素贝叶斯法变得简单，但是可能牺牲一定的分类准确率。\n",
    "\n",
    "准确率牺牲的程度依赖实际特征的关联程度。"
   ]
  },
  {
   "cell_type": "markdown",
   "metadata": {},
   "source": [
    "## 概率估计：\n",
    "### 对先验概率的估计有两种思路：极大似然估计&最大后验估计\n",
    "#### 极大似然估计的结果等价于直接用事件样本的频率\n",
    "#### 最大后验估计则在极大似然估计的基础上加了平滑项（先验知识），确保概率的最小值。"
   ]
  },
  {
   "cell_type": "markdown",
   "metadata": {},
   "source": [
    "## 朴素贝叶斯分类器的优点：\n",
    "\n",
    "### 性能相当好，它速度快，可以避免维度灾难。\n",
    "### 支持大规模数据的并行学习，且天然的支持增量学习。\n",
    "## 朴素贝叶斯分类器的缺点：\n",
    "\n",
    "### 无法给出分类概率（条件概率的特征独立性假设强，所以得到的概率不能太当真）"
   ]
  },
  {
   "cell_type": "markdown",
   "metadata": {},
   "source": []
  }
 ],
 "metadata": {
  "kernelspec": {
   "display_name": "Python 3",
   "language": "python",
   "name": "python3"
  },
  "language_info": {
   "codemirror_mode": {
    "name": "ipython",
    "version": 3
   },
   "file_extension": ".py",
   "mimetype": "text/x-python",
   "name": "python",
   "nbconvert_exporter": "python",
   "pygments_lexer": "ipython3",
   "version": "3.8.5"
  }
 },
 "nbformat": 4,
 "nbformat_minor": 4
}
