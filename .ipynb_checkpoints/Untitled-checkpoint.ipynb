{
 "cells": [
  {
   "cell_type": "markdown",
   "metadata": {},
   "source": [
    "### 机器学习中不确定性有三个来源:\n",
    "模型本身固有的随机性。如：量子力学中的粒子动力学方程。\n",
    "\n",
    "不完全的观测。即使是确定性系统，当无法观测所有驱动变量时，结果也是随机的。\n",
    "\n",
    "不完全建模。有时必须放弃一些观测信息。\n",
    "\n",
    "如机器人建模中：虽然可以精确观察机器人周围每个对象的位置，但在预测这些对象将来的位置时，对空间进行了离散化。则位置预测将带有不确定性。"
   ]
  },
  {
   "cell_type": "markdown",
   "metadata": {},
   "source": [
    "### 没有免费的午餐定理(No Free Lunch Theorem:NFL)：\n",
    "对于一个学习算法A，如果在某些问题上它比算法B好，那么必然存在另一些问题，在那些问题中B比A更好。\n",
    "\n",
    "因此不存在这样的算法：它在所有的问题上都取得最佳的性能。因此要谈论算法的优劣必须基于具体的学习问题。"
   ]
  },
  {
   "cell_type": "markdown",
   "metadata": {},
   "source": [
    "### 特征空间\n",
    "#### 输入空间 ：\n",
    "所有输入的可能取值；\n",
    "#### 输出空间 ：\n",
    "所有输出的可能取值。\n",
    "\n",
    "特征向量表示每个具体的输入， 所有特征向量构成特征空间。\n",
    "\n",
    "特征空间的每一个维度对应一种特征。\n",
    "\n",
    "可以将输入空间等同于特征空间，但是也可以不同。绝大多数情况下，输入空间等于特征空间。\n",
    "\n",
    "特征空间是指经过特征工程处理过的输入空间\n",
    "\n",
    "模型是定义在特征空间上的。"
   ]
  },
  {
   "cell_type": "markdown",
   "metadata": {},
   "source": []
  },
  {
   "cell_type": "markdown",
   "metadata": {},
   "source": []
  },
  {
   "cell_type": "markdown",
   "metadata": {},
   "source": []
  },
  {
   "cell_type": "markdown",
   "metadata": {},
   "source": []
  },
  {
   "cell_type": "code",
   "execution_count": null,
   "metadata": {},
   "outputs": [],
   "source": []
  }
 ],
 "metadata": {
  "kernelspec": {
   "display_name": "Python 3",
   "language": "python",
   "name": "python3"
  },
  "language_info": {
   "codemirror_mode": {
    "name": "ipython",
    "version": 3
   },
   "file_extension": ".py",
   "mimetype": "text/x-python",
   "name": "python",
   "nbconvert_exporter": "python",
   "pygments_lexer": "ipython3",
   "version": "3.8.5"
  }
 },
 "nbformat": 4,
 "nbformat_minor": 4
}
